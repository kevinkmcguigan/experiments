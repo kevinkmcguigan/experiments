{
  "nbformat": 4,
  "nbformat_minor": 0,
  "metadata": {
    "colab": {
      "name": "goespy_downloader.ipynb",
      "provenance": [],
      "authorship_tag": "ABX9TyP9d318ci6mCjZvIuhn8TDc",
      "include_colab_link": true
    },
    "kernelspec": {
      "name": "python3",
      "display_name": "Python 3"
    },
    "language_info": {
      "name": "python"
    }
  },
  "cells": [
    {
      "cell_type": "markdown",
      "metadata": {
        "id": "view-in-github",
        "colab_type": "text"
      },
      "source": [
        "<a href=\"https://colab.research.google.com/github/kevinkmcguigan/experiments/blob/main/goespy_downloader.ipynb\" target=\"_parent\"><img src=\"https://colab.research.google.com/assets/colab-badge.svg\" alt=\"Open In Colab\"/></a>"
      ]
    },
    {
      "cell_type": "code",
      "metadata": {
        "colab": {
          "base_uri": "https://localhost:8080/"
        },
        "id": "iKhNNODP9Ab6",
        "outputId": "6d0907f3-576a-41e0-e477-b8aa7d5c03ae"
      },
      "source": [
        "#almost working, see\n",
        "#https://github.com/palexandremello/goes-py/blob/a0a8e3136f77978c29494700da88e1f0a319daa1/goespy/Downloader.py\n",
        "\n",
        "pip install goespy"
      ],
      "execution_count": 1,
      "outputs": [
        {
          "output_type": "stream",
          "text": [
            "Collecting goespy\n",
            "  Downloading https://files.pythonhosted.org/packages/b7/cd/d79f12cf8fbdfe42e451b9c941abe93716e861a92dc856775d1fcdb7f20f/goespy-0.2.1.tar.gz\n",
            "Collecting boto3\n",
            "\u001b[?25l  Downloading https://files.pythonhosted.org/packages/03/e1/8a4e2ed00dbbeec3cd69ac8a91ce4183c278ecd3ce3c80322212afb9de95/boto3-1.17.39.tar.gz (99kB)\n",
            "\u001b[K     |████████████████████████████████| 102kB 3.9MB/s \n",
            "\u001b[?25hCollecting botocore\n",
            "\u001b[?25l  Downloading https://files.pythonhosted.org/packages/72/ad/abdc982cb695a20764df007a2d7cb0ac8964c9591fd014006e40334e4a74/botocore-1.20.39-py2.py3-none-any.whl (7.3MB)\n",
            "\u001b[K     |████████████████████████████████| 7.3MB 7.7MB/s \n",
            "\u001b[?25hRequirement already satisfied: pathlib in /usr/local/lib/python3.7/dist-packages (from goespy) (1.0.1)\n",
            "Collecting jmespath<1.0.0,>=0.7.1\n",
            "  Downloading https://files.pythonhosted.org/packages/07/cb/5f001272b6faeb23c1c9e0acc04d48eaaf5c862c17709d20e3469c6e0139/jmespath-0.10.0-py2.py3-none-any.whl\n",
            "Collecting s3transfer<0.4.0,>=0.3.0\n",
            "\u001b[?25l  Downloading https://files.pythonhosted.org/packages/98/14/0b4be62b65c52d6d1c442f24e02d2a9889a73d3c352002e14c70f84a679f/s3transfer-0.3.6-py2.py3-none-any.whl (73kB)\n",
            "\u001b[K     |████████████████████████████████| 81kB 1.2MB/s \n",
            "\u001b[?25hRequirement already satisfied: python-dateutil<3.0.0,>=2.1 in /usr/local/lib/python3.7/dist-packages (from botocore->goespy) (2.8.1)\n",
            "Collecting urllib3<1.27,>=1.25.4\n",
            "\u001b[?25l  Downloading https://files.pythonhosted.org/packages/09/c6/d3e3abe5b4f4f16cf0dfc9240ab7ce10c2baa0e268989a4e3ec19e90c84e/urllib3-1.26.4-py2.py3-none-any.whl (153kB)\n",
            "\u001b[K     |████████████████████████████████| 153kB 44.0MB/s \n",
            "\u001b[?25hRequirement already satisfied: six>=1.5 in /usr/local/lib/python3.7/dist-packages (from python-dateutil<3.0.0,>=2.1->botocore->goespy) (1.15.0)\n",
            "Building wheels for collected packages: goespy, boto3\n",
            "  Building wheel for goespy (setup.py) ... \u001b[?25l\u001b[?25hdone\n",
            "  Created wheel for goespy: filename=goespy-0.2.1-cp37-none-any.whl size=7075 sha256=45848df89a3360193e77b8010dc13150773dad15e73b2c8c37b304bd1a0f18b9\n",
            "  Stored in directory: /root/.cache/pip/wheels/72/ab/af/b5d41ae88725ea80414439aa33ffe6e7e63ef256905d4a6bd3\n",
            "  Building wheel for boto3 (setup.py) ... \u001b[?25l\u001b[?25hdone\n",
            "  Created wheel for boto3: filename=boto3-1.17.39-py2.py3-none-any.whl size=128779 sha256=c19ed9e0171dd4c8aa575c0da789f52f4715dad06a3a508e3b974721a22d199a\n",
            "  Stored in directory: /root/.cache/pip/wheels/c6/45/42/48c8efe6fd9d2a4fc10ebd8fb742853526f29aa380514714b5\n",
            "Successfully built goespy boto3\n",
            "\u001b[31mERROR: requests 2.23.0 has requirement urllib3!=1.25.0,!=1.25.1,<1.26,>=1.21.1, but you'll have urllib3 1.26.4 which is incompatible.\u001b[0m\n",
            "\u001b[31mERROR: datascience 0.10.6 has requirement folium==0.2.1, but you'll have folium 0.8.3 which is incompatible.\u001b[0m\n",
            "Installing collected packages: urllib3, jmespath, botocore, s3transfer, boto3, goespy\n",
            "  Found existing installation: urllib3 1.24.3\n",
            "    Uninstalling urllib3-1.24.3:\n",
            "      Successfully uninstalled urllib3-1.24.3\n",
            "Successfully installed boto3-1.17.39 botocore-1.20.39 goespy-0.2.1 jmespath-0.10.0 s3transfer-0.3.6 urllib3-1.26.4\n"
          ],
          "name": "stdout"
        }
      ]
    },
    {
      "cell_type": "code",
      "metadata": {
        "colab": {
          "base_uri": "https://localhost:8080/"
        },
        "id": "rncmAcz-9H8p",
        "outputId": "5bd66e36-3586-4860-8089-4611546bb083"
      },
      "source": [
        "from goespy.Downloader import ABI_Downloader"
      ],
      "execution_count": 2,
      "outputs": [
        {
          "output_type": "stream",
          "text": [
            "\n",
            "======================================== goes-py =========================================\n",
            " A Python package can be useful to download dataset from goes satellite on AWS  0.2.1v\n",
            "==========================================================================================\n"
          ],
          "name": "stdout"
        }
      ]
    },
    {
      "cell_type": "code",
      "metadata": {
        "colab": {
          "base_uri": "https://localhost:8080/"
        },
        "id": "rLNKlRdn-6io",
        "outputId": "84307425-f7e0-4d4a-ba68-a9103e29b4d8"
      },
      "source": [
        "%cd /content"
      ],
      "execution_count": 11,
      "outputs": [
        {
          "output_type": "stream",
          "text": [
            "/content\n"
          ],
          "name": "stdout"
        }
      ]
    },
    {
      "cell_type": "code",
      "metadata": {
        "colab": {
          "base_uri": "https://localhost:8080/"
        },
        "id": "Jk4eRe-d9S83",
        "outputId": "6f33dc50-e7b4-4b93-c32d-2103154504cc"
      },
      "source": [
        "destination_path = '/home/paulo/Downloads/goes_data/'\n",
        "bucket = 'noaa-goes16'\n",
        "year='2018'\n",
        "month='03'\n",
        "day='22'\n",
        "hour='12'\n",
        "product='ABI-L2-CMIPF'\n",
        "channel='C13'\n",
        "ABI = ABI_Downloader(bucket,year,month,day,hour,product,channel)"
      ],
      "execution_count": 14,
      "outputs": [
        {
          "output_type": "stream",
          "text": [
            "Downloading... the product ABI-L2-CMIPF \n",
            "Downloading dataset to... 12 UTC\n"
          ],
          "name": "stdout"
        }
      ]
    },
    {
      "cell_type": "code",
      "metadata": {
        "colab": {
          "base_uri": "https://localhost:8080/"
        },
        "id": "Mdd9xKEk-xW5",
        "outputId": "76233788-59f0-41e5-d9da-6bb47f07e4cc"
      },
      "source": [
        "print(ABI)"
      ],
      "execution_count": 16,
      "outputs": [
        {
          "output_type": "stream",
          "text": [
            "0\n"
          ],
          "name": "stdout"
        }
      ]
    }
  ]
}