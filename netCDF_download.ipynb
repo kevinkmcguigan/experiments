{
  "nbformat": 4,
  "nbformat_minor": 0,
  "metadata": {
    "colab": {
      "name": "netCDF_download.ipynb",
      "provenance": [],
      "collapsed_sections": [],
      "authorship_tag": "ABX9TyNcAPMixpJ22wnhOxidLL0k",
      "include_colab_link": true
    },
    "kernelspec": {
      "name": "python3",
      "display_name": "Python 3"
    },
    "language_info": {
      "name": "python"
    }
  },
  "cells": [
    {
      "cell_type": "markdown",
      "metadata": {
        "id": "view-in-github",
        "colab_type": "text"
      },
      "source": [
        "<a href=\"https://colab.research.google.com/github/kevinkmcguigan/experiments/blob/main/netCDF_download.ipynb\" target=\"_parent\"><img src=\"https://colab.research.google.com/assets/colab-badge.svg\" alt=\"Open In Colab\"/></a>"
      ]
    },
    {
      "cell_type": "code",
      "metadata": {
        "id": "Ym70RJOyiMm_"
      },
      "source": [
        "#this is based on information found at:\n",
        "#https://colab.research.google.com/github/astg606/py_materials/blob/master/science_data_format/introduction_netcdf4.ipynb#scrollTo=jzSepRxHhqhF\n",
        "\n",
        "#some more info can be found at \n",
        "# https://towardsdatascience.com/read-netcdf-data-with-python-901f7ff61648"
      ],
      "execution_count": 3,
      "outputs": []
    },
    {
      "cell_type": "code",
      "metadata": {
        "colab": {
          "base_uri": "https://localhost:8080/"
        },
        "id": "RTuXzmiciQmI",
        "outputId": "4b2c5fee-7519-4e18-8b9c-dd5bfb30a192"
      },
      "source": [
        "!pip install netCDF4"
      ],
      "execution_count": 3,
      "outputs": [
        {
          "output_type": "stream",
          "text": [
            "Requirement already satisfied: netCDF4 in /usr/local/lib/python3.7/dist-packages (1.5.6)\n",
            "Requirement already satisfied: numpy>=1.9 in /usr/local/lib/python3.7/dist-packages (from netCDF4) (1.19.5)\n",
            "Requirement already satisfied: cftime in /usr/local/lib/python3.7/dist-packages (from netCDF4) (1.4.1)\n"
          ],
          "name": "stdout"
        }
      ]
    },
    {
      "cell_type": "code",
      "metadata": {
        "id": "IT8HrcHDiZD-"
      },
      "source": [
        "import datetime\n",
        "import numpy as np\n",
        "import netCDF4 as nc4"
      ],
      "execution_count": 4,
      "outputs": []
    },
    {
      "cell_type": "code",
      "metadata": {
        "colab": {
          "base_uri": "https://localhost:8080/"
        },
        "id": "8Jx3hlLCifKM",
        "outputId": "3a91a494-8aaa-453f-a78a-dcf9026633ae"
      },
      "source": [
        "# Get the remote  file\n",
        "nc_file = \"sresa1b_ncar_ccsm3-example.nc\"\n",
        "url = \"https://www.unidata.ucar.edu/software/netcdf/examples/\"\n",
        "import urllib.request\n",
        "urllib.request.urlretrieve(url+nc_file, nc_file)"
      ],
      "execution_count": 5,
      "outputs": [
        {
          "output_type": "execute_result",
          "data": {
            "text/plain": [
              "('sresa1b_ncar_ccsm3-example.nc', <http.client.HTTPMessage at 0x7f4955d25850>)"
            ]
          },
          "metadata": {
            "tags": []
          },
          "execution_count": 5
        }
      ]
    },
    {
      "cell_type": "code",
      "metadata": {
        "id": "QfZLDivZiiBl"
      },
      "source": [
        "# Open the netCDF file and read surface air temperature\n",
        "with nc4.Dataset(nc_file,'r') as ncid:\n",
        "     lons      = ncid.variables['lon'][:] # longitude grid points\n",
        "     lats      = ncid.variables['lat'][:] # latitude grid points\n",
        "     levs      = ncid.variables['plev'][:] # pressure leves\n",
        "     surf_temp = ncid.variables['tas'][:]\n",
        "     uwind     = ncid.variables['ua'][:]"
      ],
      "execution_count": 6,
      "outputs": []
    },
    {
      "cell_type": "code",
      "metadata": {
        "colab": {
          "base_uri": "https://localhost:8080/"
        },
        "id": "FKUo6bVojSf8",
        "outputId": "8464ecd2-da86-47d5-809b-31577912cb8d"
      },
      "source": [
        "print(lons.shape)\n",
        "print(lats.shape)\n",
        "print(levs.shape)\n",
        "print(surf_temp.shape)\n",
        "print(uwind.shape)"
      ],
      "execution_count": 7,
      "outputs": [
        {
          "output_type": "stream",
          "text": [
            "(256,)\n",
            "(128,)\n",
            "(17,)\n",
            "(1, 128, 256)\n",
            "(1, 17, 128, 256)\n"
          ],
          "name": "stdout"
        }
      ]
    },
    {
      "cell_type": "code",
      "metadata": {
        "colab": {
          "base_uri": "https://localhost:8080/"
        },
        "id": "IBtP3Kxokci0",
        "outputId": "bd2e91bf-1253-47cf-fcc7-35d5c9de9abf"
      },
      "source": [
        "# https://geo.nsstc.nasa.gov/satellite/goes16/abi/l1b/fullDisk/\n",
        "# Get the remote  file\n",
        "url = \"https://geo.nsstc.nasa.gov/satellite/goes16/abi/l1b/fullDisk/OR_ABI-L1b-RadF-M6C01_G16_s20210860030172_e20210860039480_c20210860039525.nc\"\n",
        "url = \"https://geo.nsstc.nasa.gov/satellite/goes16/abi/l1b/fullDisk/OR_ABI-L1b-RadF-M6C01_G16_s20210860040172_e20210860049480_c20210860049524.nc\"\n",
        "url = \"https://geo.nsstc.nasa.gov/satellite/goes16/abi/l1b/fullDisk/OR_ABI-L1b-RadF-M6C02_G16_s20210860050172_e20210860059480_c20210860059516.nc\"\n",
        "import urllib.request\n",
        "urllib.request.urlretrieve(url, nc_file)\n",
        "\n"
      ],
      "execution_count": 14,
      "outputs": [
        {
          "output_type": "execute_result",
          "data": {
            "text/plain": [
              "('sresa1b_ncar_ccsm3-example.nc', <http.client.HTTPMessage at 0x7f4955891210>)"
            ]
          },
          "metadata": {
            "tags": []
          },
          "execution_count": 14
        }
      ]
    },
    {
      "cell_type": "code",
      "metadata": {
        "colab": {
          "base_uri": "https://localhost:8080/"
        },
        "id": "tBrDmIQqlG6u",
        "outputId": "a790571d-ec94-482f-8db1-5f09dcd98db6"
      },
      "source": [
        "ncc = nc4.Dataset(nc_file,'r')\n",
        "print(ncc)"
      ],
      "execution_count": 15,
      "outputs": [
        {
          "output_type": "stream",
          "text": [
            "<class 'netCDF4._netCDF4.Dataset'>\n",
            "root group (NETCDF4 data model, file format HDF5):\n",
            "    naming_authority: gov.nesdis.noaa\n",
            "    Conventions: CF-1.7\n",
            "    Metadata_Conventions: Unidata Dataset Discovery v1.0\n",
            "    standard_name_vocabulary: CF Standard Name Table (v35, 20 July 2016)\n",
            "    institution: DOC/NOAA/NESDIS > U.S. Department of Commerce, National Oceanic and Atmospheric Administration, National Environmental Satellite, Data, and Information Services\n",
            "    project: GOES\n",
            "    production_site: WCDAS\n",
            "    production_environment: OE\n",
            "    spatial_resolution: 0.5km at nadir\n",
            "    orbital_slot: GOES-East\n",
            "    platform_ID: G16\n",
            "    instrument_type: GOES R Series Advanced Baseline Imager\n",
            "    scene_id: Full Disk\n",
            "    instrument_ID: FM1\n",
            "    title: ABI L1b Radiances\n",
            "    summary: Single reflective band ABI L1b Radiance Products are digital maps of outgoing radiance values at the top of the atmosphere for visible and near-IR bands.\n",
            "    keywords: SPECTRAL/ENGINEERING > VISIBLE WAVELENGTHS > VISIBLE RADIANCE\n",
            "    keywords_vocabulary: NASA Global Change Master Directory (GCMD) Earth Science Keywords, Version 7.0.0.0.0\n",
            "    iso_series_metadata_id: a70be540-c38b-11e0-962b-0800200c9a66\n",
            "    license: Unclassified data.  Access is restricted to approved users only.\n",
            "    processing_level: National Aeronautics and Space Administration (NASA) L1b\n",
            "    cdm_data_type: Image\n",
            "    dataset_name: OR_ABI-L1b-RadF-M6C02_G16_s20210860050172_e20210860059480_c20210860059516.nc\n",
            "    production_data_source: Realtime\n",
            "    timeline_id: ABI Mode 6\n",
            "    date_created: 2021-03-27T00:59:51.6Z\n",
            "    time_coverage_start: 2021-03-27T00:50:17.2Z\n",
            "    time_coverage_end: 2021-03-27T00:59:48.0Z\n",
            "    LUT_Filenames: SpaceLookParams(FM1A_CDRL79RevP_PR_09_00_02)-637827000.0.h5 QTableBand02(FM1A_CDRL79RevH_DO_07_00_00)-582860861.0.h5 CalTargetTimeIntervals(FM1A_CDRL79RevP_DO_08_00_01)-611906620.0.h5 BandSaturationLimits(FM1A_CDRL79RevH_DO_08_00_00)-600000000.0.h5 SolarSpaceLookParams(FM1A_CDRL79RevH_DO_09_00_00)-600765435.0.h5 DeadRowListParams(FM1A_CDRL79RevH_DO_08_00_00)-600000000.0.h5 Mirror_Record(FM1A_CDRL79RevG_DO_07_00_00)-582860861.0.h5 KalmanAstroConsts(FM1A_CDRL79RevH_DO_08_00_00)-600000000.0.xml KalmanFilterControls(FM1A_CDRL79RevJ_PR_09_02_06)-652953000.0.xml KalmanMeasMaxSensibles(FMAA_INT_ONLY_DO_09_01_00)-652936814.0.xml KalmanPreprocessorControls(FM1A_CDRL79RevJ_PR_09_06_02)-657795700.0.xml KalmanReferenceData(FM1A_CDRL79RevH_DO_08_00_00)-888.0.xml KalmanStarCatalogs(FM1A_CDRL79RevH_DO_08_00_00)-600000000.0.xml ABI_NavigationRDP_Band02(FM1A_CDRL79RevJ_DO_07_00_00)-582860861.0.xml ABI_NavigationParameters_Band02(FM1A_CDRL79RevH_DO_07_00_00)-582860861.0.xml ABI_ResamplingImplementation_Band02(FM1A_CDRL79RevH_DO_07_02_00)-602129336.0.xml ABI_ResamplingParameters_Band02(FM1A_CDRL79RevJ_DO_07_00_00)-582860861.0.xml StarLookParams(FM1A_CDRL79RevH_DO_08_00_00)-600000000.0.h5 StarDetectionParams(FM1A_CDRL79RevJ_DO_07_00_00)-582860861.0.xml ResamplingScaledConversion(FMAA_INT_ONLY_DO_08_00_00)-1111.0.xml BlockReleaseRegions(FMAA_INT_ONLY_DO_08_00_00)-2222.0.csv VNIR_RetrievalParameters(FM1A_CDRL79RevH_DO_08_00_00)-600000000.0.h5 SCT_Record(FM1A_CDRL79RevM_DO_09_00_00)-600765435.0.h5 ICM_ConversionConsts(FM1A_CDRL43-18_DO_09_01_00)-652936750.0.h5 ICM_SensorCoefficients(FM1A_TMABI_18_159_TMABI_18_533_DO_09_01_00)-652936750.0.h5\n",
            "    cspp_geo_grb_version: CSPP Geo GRB v1.0.23\n",
            "    cspp_geo_grb_production_host: goesacq1\n",
            "    history: 2021-03-27, 01:00:05, ess, /ess/packages/CSPP/cspp-geo-grb-1.0/GRB-R/grbr/reconstructor.py -b -vv /ess/data/satellite/goes/grb/level1b/incoming/tmp/RT-CSPP/GRB_250_0x81_2021-03-27T00:50:17.282Z.ccsds\n",
            "    cspp_geo_grb_reconstruction_end_time: 2021-03-27 01:00:05.895114\n",
            "    dimensions(sizes): y(21696), x(21696), number_of_time_bounds(2), band(1), number_of_image_bounds(2), num_star_looks(24)\n",
            "    variables(dimensions): int16 y(y), int16 x(x), int16 Rad(y, x), int8 DQF(y, x), float64 t(), float64 time_bounds(number_of_time_bounds), int32 goes_imager_projection(), float32 y_image(), float32 y_image_bounds(number_of_image_bounds), float32 x_image(), float32 x_image_bounds(number_of_image_bounds), float32 nominal_satellite_subpoint_lat(), float32 nominal_satellite_subpoint_lon(), float32 nominal_satellite_height(), float32 geospatial_lat_lon_extent(), int8 yaw_flip_flag(), int8 band_id(band), float32 band_wavelength(band), float32 esun(), float32 kappa0(), float32 planck_fk1(), float32 planck_fk2(), float32 planck_bc1(), float32 planck_bc2(), int32 valid_pixel_count(), int32 missing_pixel_count(), int32 saturated_pixel_count(), int32 undersaturated_pixel_count(), int32 focal_plane_temperature_threshold_exceeded_count(), float32 min_radiance_value_of_valid_pixels(), float32 max_radiance_value_of_valid_pixels(), float32 mean_radiance_value_of_valid_pixels(), float32 std_dev_radiance_value_of_valid_pixels(), float32 maximum_focal_plane_temperature(), float32 focal_plane_temperature_threshold_increasing(), float32 focal_plane_temperature_threshold_decreasing(), float32 percent_uncorrectable_L0_errors(), float32 earth_sun_distance_anomaly_in_AU(), int32 algorithm_dynamic_input_data_container(), int32 processing_parm_version_container(), int32 algorithm_product_version_container(), float64 t_star_look(num_star_looks), float32 band_wavelength_star_look(num_star_looks), int16 star_id(num_star_looks), int32 channel_integration_time(), int32 channel_gain_field()\n",
            "    groups: \n"
          ],
          "name": "stdout"
        }
      ]
    },
    {
      "cell_type": "code",
      "metadata": {
        "id": "yaU26Ps4lvl1"
      },
      "source": [
        "# Open the netCDF file and read surface air temperature\n",
        "with nc4.Dataset(nc_file,'r') as ncid:\n",
        "     y      = ncid.variables['y'][:] # longitude grid points\n",
        "     x      = ncid.variables['x'][:] # latitude grid points\n",
        "     rad      = ncid.variables['Rad'][:] # latitude grid points\n"
      ],
      "execution_count": 16,
      "outputs": []
    },
    {
      "cell_type": "code",
      "metadata": {
        "colab": {
          "base_uri": "https://localhost:8080/"
        },
        "id": "IWhY_tZAl-Y3",
        "outputId": "18c109a8-8411-4ca6-9d38-7a64af913134"
      },
      "source": [
        "print(x.shape)\n",
        "print(y.shape)\n",
        "print(rad.shape)\n",
        "\n"
      ],
      "execution_count": 17,
      "outputs": [
        {
          "output_type": "stream",
          "text": [
            "(21696,)\n",
            "(21696,)\n",
            "(21696, 21696)\n"
          ],
          "name": "stdout"
        }
      ]
    },
    {
      "cell_type": "code",
      "metadata": {
        "colab": {
          "base_uri": "https://localhost:8080/",
          "height": 269
        },
        "id": "c5gqqAA1mnOD",
        "outputId": "b125336a-3f05-4b1a-9fdf-b3cdd8b99fee"
      },
      "source": [
        "import matplotlib.pyplot as plt\n",
        "plt.imshow(rad[::100,::100], )\n",
        "plt.show()"
      ],
      "execution_count": 20,
      "outputs": [
        {
          "output_type": "display_data",
          "data": {
            "image/png": "[encoded data removed]",
            "text/plain": [
              "<Figure size 432x288 with 1 Axes>"
            ]
          },
          "metadata": {
            "tags": [],
            "needs_background": "light"
          }
        }
      ]
    },
    {
      "cell_type": "code",
      "metadata": {
        "id": "q5vYeaKmnLoh"
      },
      "source": [
        "import plotly.express as px\n",
        "fig = px.imshow(rad)\n",
        "fig.update_layout(width=256, height=256, margin=dict(l=10, r=10, b=10, t=10))\n",
        "fig.update_xaxes(showticklabels=False).update_yaxes(showticklabels=False)\n",
        "fig.show()"
      ],
      "execution_count": null,
      "outputs": []
    }
  ]
}
